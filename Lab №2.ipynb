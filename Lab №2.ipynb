{
 "cells": [
  {
   "cell_type": "markdown",
   "metadata": {},
   "source": [
    "# <h1> **Лабораторна робота 2**"
   ]
  },
  {
   "cell_type": "markdown",
   "metadata": {},
   "source": [
    "1. Розв’язати методами Гауса, Крамера та оберненої матриці систему\n",
    "рівнянь:\n",
    "\\begin{cases} g*x+(g+1)*y+(g+2)*z=k,  \n",
    "\\\\2*g*x+(g+5)*y+(g-6)*z=k+1,\n",
    "\\\\3*g*x+(g-1)*y-3*z=k+2,\n",
    "\\end{cases}"
   ]
  },
  {
   "cell_type": "code",
   "execution_count": 1,
   "metadata": {},
   "outputs": [
    {
     "name": "stdout",
     "output_type": "stream",
     "text": [
      "FiniteSet((151/195, 36/65, 9/13))\n"
     ]
    }
   ],
   "source": [
    "from sympy import *\n",
    "\n",
    "x, y, z = symbols('x, y, z')\n",
    "\n",
    "g = 3\n",
    "k = 8\n",
    "\n",
    "print(linsolve([\n",
    "    g * x + (g + 1) * y + (g + 2) * z - k,\n",
    "    2 * g * x + (g + 5) * y + (g - 6) * z - k + 1,\n",
    "    3 * g * x + (g - 1) * y - 3 * z - k + 2],\n",
    "    (x, y, z)))"
   ]
  },
  {
   "cell_type": "code",
   "execution_count": null,
   "metadata": {},
   "outputs": [],
   "source": []
  }
 ],
 "metadata": {
  "kernelspec": {
   "display_name": "Python 3",
   "language": "python",
   "name": "python3"
  },
  "language_info": {
   "codemirror_mode": {
    "name": "ipython",
    "version": 3
   },
   "file_extension": ".py",
   "mimetype": "text/x-python",
   "name": "python",
   "nbconvert_exporter": "python",
   "pygments_lexer": "ipython3",
   "version": "3.8.5"
  }
 },
 "nbformat": 4,
 "nbformat_minor": 5
}
