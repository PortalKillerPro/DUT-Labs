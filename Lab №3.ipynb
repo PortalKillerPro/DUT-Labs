{
 "cells": [
  {
   "cell_type": "markdown",
   "metadata": {},
   "source": [
    "# <h1> **Лабораторна робота 3**"
   ]
  },
  {
   "cell_type": "markdown",
   "metadata": {},
   "source": [
    "1. Розв’язати систему нелінійних рівнянь:\n",
    "\\begin{cases} k*x-4*g+sin(k*x+y-4*g)/10=0\n",
    "\\\\y-sin(k*x+y-4*g)/(10*g)=0\n",
    "\\end{cases}"
   ]
  },
  {
   "cell_type": "code",
   "execution_count": 6,
   "metadata": {},
   "outputs": [
    {
     "name": "stdout",
     "output_type": "stream",
     "text": [
      "FiniteSet((3/2, 0))\n"
     ]
    }
   ],
   "source": [
    "from sympy import *\n",
    "import numpy as np\n",
    "\n",
    "x, y = symbols('x, y', real=True)\n",
    "\n",
    "g = 3\n",
    "k = 8\n",
    "\n",
    "print(nonlinsolve([k * x - 4 * g + (k * x + y - 4 * g) / 10,\n",
    "                   y - (k * x + y - 4 * g) / (10 * g)],\n",
    "                  [x, y]))\n",
    "# с синусом не работает, разобратся в чём дело не получилось"
   ]
  },
  {
   "cell_type": "code",
   "execution_count": null,
   "metadata": {},
   "outputs": [],
   "source": []
  }
 ],
 "metadata": {
  "kernelspec": {
   "display_name": "Python 3",
   "language": "python",
   "name": "python3"
  },
  "language_info": {
   "codemirror_mode": {
    "name": "ipython",
    "version": 3
   },
   "file_extension": ".py",
   "mimetype": "text/x-python",
   "name": "python",
   "nbconvert_exporter": "python",
   "pygments_lexer": "ipython3",
   "version": "3.8.5"
  }
 },
 "nbformat": 4,
 "nbformat_minor": 5
}
